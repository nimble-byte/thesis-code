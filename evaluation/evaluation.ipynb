{
 "cells": [
  {
   "cell_type": "code",
   "execution_count": 1,
   "id": "54e74614",
   "metadata": {},
   "outputs": [],
   "source": [
    "import pandas as pd\n",
    "import scipy.stats as st\n",
    "import os"
   ]
  },
  {
   "cell_type": "code",
   "execution_count": 2,
   "id": "e60bf3ca",
   "metadata": {},
   "outputs": [],
   "source": [
    "type_dict = {\n",
    "    \"id\": \"Int64\",\n",
    "    \"submitdate\": \"str\",\n",
    "    \"lastpage\": \"string\",\n",
    "    \"startlanguage\": \"string\",\n",
    "    \"seed\": \"string\",\n",
    "    \"token\": \"string\",\n",
    "    \"startdate\": \"str\",\n",
    "    \"datestamp\": \"str\",\n",
    "    \"refurl\": \"string\",\n",
    "    \"group\": \"string\",\n",
    "    \"tasks\": \"Int64\",\n",
    "    \"UUID\": \"string\",\n",
    "    \"age\": \"string\",\n",
    "    \"gender_mf\": \"string\",\n",
    "    \"gender_other\": \"string\",\n",
    "    \"education\": \"string\",\n",
    "    \"usefulness[SQ001]\": \"Int64\",\n",
    "    \"usefulness[SQ002]\": \"Int64\",\n",
    "    \"usefulness[SQ003]\": \"Int64\",\n",
    "    \"usefulness[SQ004]\": \"Int64\",\n",
    "    \"usefulness[SQ005]\": \"Int64\",\n",
    "    \"usefulness[SQ006]\": \"Int64\",\n",
    "    \"ease_of_use[SQ001]\": \"Int64\",\n",
    "    \"ease_of_use[SQ002]\": \"Int64\",\n",
    "    \"ease_of_use[SQ003]\": \"Int64\",\n",
    "    \"ease_of_use[SQ004]\": \"Int64\",\n",
    "    \"ease_of_use[SQ005]\": \"Int64\",\n",
    "    \"ease_of_use[SQ006]\": \"Int64\",\n",
    "    \"self_efficacy[SQ001]\": \"Int64\",\n",
    "    \"self_efficacy[SQ002]\": \"Int64\",\n",
    "    \"self_efficacy[SQ003]\": \"Int64\",\n",
    "    \"self_efficacy[SQ004]\": \"Int64\",\n",
    "    \"self_efficacy[SQ005]\": \"Int64\",\n",
    "    \"self_efficacy[SQ006]\": \"Int64\",\n",
    "    \"self_efficacy[SQ007]\": \"Int64\",\n",
    "    \"self_efficacy[SQ008]\": \"Int64\",\n",
    "    \"self_efficacy[SQ009]\": \"Int64\",\n",
    "    \"self_efficacy[SQ010]\": \"Int64\",\n",
    "    \"load[SQ001]\": \"Int64\",\n",
    "    \"load[SQ002]\": \"Int64\",\n",
    "    \"load[SQ003]\": \"Int64\",\n",
    "    \"load[SQ004]\": \"Int64\",\n",
    "    \"load[SQ005]\": \"Int64\",\n",
    "    \"load[SQ006]\": \"Int64\",\n",
    "}\n",
    "meta_cols = [\n",
    "    \"submitdate\",\n",
    "    \"startdate\",\n",
    "    \"datestamp\",\n",
    "    \"tasks\",\n",
    "    \"age\",\n",
    "    \"gender_mf\",\n",
    "    \"education\",\n",
    "    \"UUID\",\n",
    "]\n",
    "\n",
    "question_dict = {\n",
    "    \"usefulness[SQ001]\": \"Using the chatbot for learning enable me to accomplish tasks more quickly.\",\n",
    "    \"usefulness[SQ002]\": \"Using the chatbot would improve my learning performance.\",\n",
    "    \"usefulness[SQ003]\": \"Using the chatbot in my Job would increase my learning outcomes.\",\n",
    "    \"usefulness[SQ004]\": \"Using the chatbot would enhance my effectiveness when learning.\",\n",
    "    \"usefulness[SQ005]\": \"Using the chatbot would make it easier to learn maths.\",\n",
    "    \"usefulness[SQ006]\": \"I would find the chatbot useful for learning.\",\n",
    "    \"ease_of_use[SQ001]\": \"Learning to operate the chatbot would be easy for me.\",\n",
    "    \"ease_of_use[SQ002]\": \"I would find it easy to get the chatbot to do what I want.\",\n",
    "    \"ease_of_use[SQ003]\": \"My interaction with the chatbot would be clear and understandable.\",\n",
    "    \"ease_of_use[SQ004]\": \"I would find the chatbot to be flexible to interact with.\",\n",
    "    \"ease_of_use[SQ005]\": \"It would be easy for me to become skillful at using the chatbot.\",\n",
    "    \"ease_of_use[SQ006]\": \"I would find the chatbot easy to use.\",\n",
    "    \"self_efficacy[SQ001]\": \"...if there was no one around to tell me what to do as I go.\",\n",
    "    \"self_efficacy[SQ002]\": \"...if I had never used a tool like it before.\",\n",
    "    \"self_efficacy[SQ003]\": \"...if I had only the software manuals for reference.\",\n",
    "    \"self_efficacy[SQ004]\": \"...if I had seen someone else using it before trying it myself.\",\n",
    "    \"self_efficacy[SQ005]\": \"...if I could call someone for help if I got stuck.\",\n",
    "    \"self_efficacy[SQ006]\": \"...if someone else had helped me get started.\",\n",
    "    \"self_efficacy[SQ007]\": \"...if I had a lot of time to solve the problems for which the tool was provided.\",\n",
    "    \"self_efficacy[SQ008]\": \"...if I had just the built-in help facility for assistance.\",\n",
    "    \"self_efficacy[SQ009]\": \"...if someone showed me how to do it first.\",\n",
    "    \"self_efficacy[SQ010]\": \"...if I had used a similar tool before this one to solve the same problems.\",\n",
    "    \"load[SQ001]\": \"Mental Demand\",\n",
    "    \"load[SQ002]\": \"Physical Demand\",\n",
    "    \"load[SQ003]\": \"Temporal Demand\",\n",
    "    \"load[SQ004]\": \"Performance\",\n",
    "    \"load[SQ005]\": \"Effort\",\n",
    "    \"load[SQ006]\": \"Frustration\",\n",
    "}"
   ]
  },
  {
   "cell_type": "code",
   "execution_count": 3,
   "id": "78e362bf",
   "metadata": {},
   "outputs": [],
   "source": [
    "def get_tam_df(df: pd.DataFrame) -> pd.DataFrame:\n",
    "    return df[[col for col in df.columns if \"usefulness\" in col or \"ease_of_use\" in col]]\n",
    "\n",
    "def get_self_efficacy_df(df: pd.DataFrame) -> pd.DataFrame:\n",
    "    return df[[col for col in df.columns if \"self_efficacy\" in col]]\n",
    "\n",
    "def get_load_df(df: pd.DataFrame) -> pd.DataFrame:\n",
    "    return df[[col for col in df.columns if \"load\" in col]]"
   ]
  },
  {
   "cell_type": "code",
   "execution_count": 4,
   "id": "78dbef6e",
   "metadata": {},
   "outputs": [],
   "source": [
    "raw_res = pd.read_csv(\"./data/survey_results.csv\", index_col=\"id\", dtype=type_dict, parse_dates=[\"submitdate\", \"startdate\", \"datestamp\"], date_format=\"%Y-%m-%dT%H:%M:%S%z\")\n",
    "\n",
    "# fix scale for load question 4 (needs to be reversed)\n",
    "raw_res[\"load[SQ004]\"] = 20 - raw_res[\"load[SQ004]\"]"
   ]
  },
  {
   "cell_type": "code",
   "execution_count": 5,
   "id": "3dc608db",
   "metadata": {},
   "outputs": [],
   "source": [
    "working_df = raw_res.drop(columns=[\"lastpage\", \"startlanguage\", \"gender_other\", \"seed\", \"token\", \"refurl\"])\n",
    "\n",
    "meta_df = working_df[meta_cols]\n",
    "data_df = working_df.drop(columns=meta_cols)\n",
    "\n",
    "# sanity check df format\n",
    "# data_df"
   ]
  },
  {
   "cell_type": "code",
   "execution_count": 6,
   "id": "6362d72c",
   "metadata": {},
   "outputs": [],
   "source": [
    "# produce separate output csv\n",
    "expl_df = data_df[raw_res[\"group\"] == \"E\"]\n",
    "base_df = data_df[raw_res[\"group\"] == \"B\"]\n",
    "\n",
    "os.makedirs(\"./out\", exist_ok=True)\n",
    "\n",
    "expl_df.to_csv(\"./out/survey_results_expl.csv\")\n",
    "base_df.to_csv(\"./out/survey_results_base.csv\")"
   ]
  },
  {
   "cell_type": "markdown",
   "id": "d67f83f7",
   "metadata": {},
   "source": [
    "### Evaluation"
   ]
  },
  {
   "cell_type": "code",
   "execution_count": 7,
   "id": "9bbb169b",
   "metadata": {},
   "outputs": [],
   "source": [
    "# split data into constructs\n",
    "tam_df = get_tam_df(data_df)\n",
    "self_efficacy_df = get_self_efficacy_df(data_df)\n",
    "load_df = get_load_df(data_df)"
   ]
  },
  {
   "cell_type": "markdown",
   "id": "cb0915d6",
   "metadata": {},
   "source": [
    "Evaluate NASA TLX results as “raw TLX” as per https://doi.org/10.1177/154193120605000909. Since the given task was not time-constrained and did not involve physical effort, the corresponding subscales are ignored in the evaluation."
   ]
  },
  {
   "cell_type": "code",
   "execution_count": 8,
   "id": "a0285f2e",
   "metadata": {},
   "outputs": [
    {
     "name": "stdout",
     "output_type": "stream",
     "text": [
      "Column: Mental Demand\n",
      "  Base Mean: 12.33\n",
      "  Expl Mean: 10.71\n",
      "  t-statistic: 0.5069\n",
      "  p-value: 0.3111\n",
      "Column: Performance\n",
      "  Base Mean: 7.00\n",
      "  Expl Mean: 3.86\n",
      "  t-statistic: 1.1371\n",
      "  p-value: 0.1480\n",
      "Column: Effort\n",
      "  Base Mean: 10.67\n",
      "  Expl Mean: 9.43\n",
      "  t-statistic: 0.3811\n",
      "  p-value: 0.3557\n",
      "Column: Frustration\n",
      "  Base Mean: 10.50\n",
      "  Expl Mean: 2.57\n",
      "  t-statistic: 2.9174\n",
      "  p-value: 0.0105\n"
     ]
    }
   ],
   "source": [
    "# columns for mental demand, performance, effort, frustration\n",
    "cols = [question_dict[\"load[SQ001]\"], question_dict[\"load[SQ004]\"], question_dict[\"load[SQ005]\"], question_dict[\"load[SQ006]\"]]\n",
    "\n",
    "# rename columns according to question_dict for easier interpretation\n",
    "load_df = load_df.rename(columns=question_dict)\n",
    "\n",
    "# split groups; don't worry about the indices, it looks shady but it's fine)\n",
    "base_group = load_df[raw_res[\"group\"] == \"B\"]\n",
    "expl_group = load_df[raw_res[\"group\"] == \"E\"]\n",
    "\n",
    "results = {}\n",
    "for col in cols:\n",
    "    base_mean = base_group[col].mean()\n",
    "    expl_mean = expl_group[col].mean()\n",
    "    t_stat, p_val = st.ttest_ind(\n",
    "        base_group[col], expl_group[col], alternative=\"greater\", equal_var=False\n",
    "    )\n",
    "    results[col] = {\n",
    "        \"base_mean\": base_mean,\n",
    "        \"expl_mean\": expl_mean,\n",
    "        \"t_stat\": t_stat,\n",
    "        \"p_val\": p_val,\n",
    "    }\n",
    "\n",
    "for col, res in results.items():\n",
    "    print(f\"Column: {col}\")\n",
    "    print(f\"  Base Mean: {res['base_mean']:.2f}\")\n",
    "    print(f\"  Expl Mean: {res['expl_mean']:.2f}\")\n",
    "    print(f\"  t-statistic: {res['t_stat']:.4f}\")\n",
    "    print(f\"  p-value: {res['p_val']:.4f}\")"
   ]
  }
 ],
 "metadata": {
  "kernelspec": {
   "display_name": ".venv",
   "language": "python",
   "name": "python3"
  },
  "language_info": {
   "codemirror_mode": {
    "name": "ipython",
    "version": 3
   },
   "file_extension": ".py",
   "mimetype": "text/x-python",
   "name": "python",
   "nbconvert_exporter": "python",
   "pygments_lexer": "ipython3",
   "version": "3.12.11"
  }
 },
 "nbformat": 4,
 "nbformat_minor": 5
}
